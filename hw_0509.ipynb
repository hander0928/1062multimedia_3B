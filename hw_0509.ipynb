{
 "cells": [
  {
   "cell_type": "code",
   "execution_count": 1,
   "metadata": {},
   "outputs": [],
   "source": [
    "from skimage import io \n",
    "import matplotlib.pyplot as plt\n",
    "import math"
   ]
  },
  {
   "cell_type": "code",
   "execution_count": 3,
   "metadata": {},
   "outputs": [
    {
     "ename": "SyntaxError",
     "evalue": "invalid syntax (<ipython-input-3-7574c0792e71>, line 1)",
     "output_type": "error",
     "traceback": [
      "\u001b[1;36m  File \u001b[1;32m\"<ipython-input-3-7574c0792e71>\"\u001b[1;36m, line \u001b[1;32m1\u001b[0m\n\u001b[1;33m    def distance(color1, color2)\u001b[0m\n\u001b[1;37m                                ^\u001b[0m\n\u001b[1;31mSyntaxError\u001b[0m\u001b[1;31m:\u001b[0m invalid syntax\n"
     ]
    }
   ],
   "source": [
    "def distance(color1, color2)\n",
    "    dif = 0\n",
    "    for i in range(0,3):\n",
    "        dif = dif + math.pow((color1[i]-color2[i]),2)\n",
    "    return math.sqrt(dif)\n",
    "\n",
    "def makeColor(image,brown):\n",
    "    rows,cols,dims=image.shape\n",
    "    for i in range(0,rows):\n",
    "        for j in range(0,cols):\n",
    "            if distance(image[i,j],brown)<50.0:\n",
    "                image[i,j,0] = 255\n",
    "    return image\n",
    "\n",
    "img=io.imread('mt.jpg')\n",
    "io.imshow(img)\n",
    "\n",
    "brown = [45,25,15]\n",
    "img2 = makeColor(img, brown)\n",
    "plt.figure()\n",
    "io.imshow(img)\n",
    "io.show()"
   ]
  },
  {
   "cell_type": "code",
   "execution_count": null,
   "metadata": {},
   "outputs": [],
   "source": []
  }
 ],
 "metadata": {
  "kernelspec": {
   "display_name": "Python 3",
   "language": "python",
   "name": "python3"
  },
  "language_info": {
   "codemirror_mode": {
    "name": "ipython",
    "version": 3
   },
   "file_extension": ".py",
   "mimetype": "text/x-python",
   "name": "python",
   "nbconvert_exporter": "python",
   "pygments_lexer": "ipython3",
   "version": "3.5.4"
  }
 },
 "nbformat": 4,
 "nbformat_minor": 2
}
